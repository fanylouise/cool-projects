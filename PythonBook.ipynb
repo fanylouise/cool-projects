{
  "nbformat": 4,
  "nbformat_minor": 0,
  "metadata": {
    "colab": {
      "provenance": [],
      "authorship_tag": "ABX9TyN/KPVlJ6HZ3X8yqz6V8KH0",
      "include_colab_link": true
    },
    "kernelspec": {
      "name": "python3",
      "display_name": "Python 3"
    },
    "language_info": {
      "name": "python"
    }
  },
  "cells": [
    {
      "cell_type": "markdown",
      "metadata": {
        "id": "view-in-github",
        "colab_type": "text"
      },
      "source": [
        "<a href=\"https://colab.research.google.com/github/fanylouise/cool-projects/blob/main/PythonBook.ipynb\" target=\"_parent\"><img src=\"https://colab.research.google.com/assets/colab-badge.svg\" alt=\"Open In Colab\"/></a>"
      ]
    },
    {
      "cell_type": "markdown",
      "source": [
        "#### 1 - variaveis"
      ],
      "metadata": {
        "id": "b0Z6ODOWjG8m"
      }
    },
    {
      "cell_type": "code",
      "execution_count": 2,
      "metadata": {
        "colab": {
          "base_uri": "https://localhost:8080/"
        },
        "id": "C5RXTj3Ni9vI",
        "outputId": "4dc01a97-ae9f-4673-e1f9-2eec01c6d26d"
      },
      "outputs": [
        {
          "output_type": "stream",
          "name": "stdout",
          "text": [
            "Freen Becky\n",
            " As atrizes principai de GAP The Series: Freen & Becky\n"
          ]
        }
      ],
      "source": [
        "[actress1, actress2] = 'Freen', 'Becky';\n",
        "print(actress1, actress2)\n",
        "print(f' As atrizes principai de GAP The Series: {actress1} & {actress2}.')"
      ]
    },
    {
      "cell_type": "markdown",
      "source": [
        "#### 2 - Criando Funcao"
      ],
      "metadata": {
        "id": "JqoIbccxlqZG"
      }
    },
    {
      "cell_type": "code",
      "source": [
        "def staff():\n",
        "  member =   input('Qual o seu nome?')\n",
        "  print(f'Ola {member}!')\n",
        "\n",
        "staff()\n"
      ],
      "metadata": {
        "colab": {
          "base_uri": "https://localhost:8080/"
        },
        "id": "Trhc2pWalyGm",
        "outputId": "1f4a40b3-6be7-4f1a-dcf1-789b03549086"
      },
      "execution_count": 4,
      "outputs": [
        {
          "output_type": "stream",
          "name": "stdout",
          "text": [
            "Qual o seu nome?Shiangrebin\n",
            "OlaShiangrebin\n"
          ]
        }
      ]
    }
  ]
}